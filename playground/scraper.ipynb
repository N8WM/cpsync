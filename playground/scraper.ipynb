{
 "cells": [
  {
   "cell_type": "code",
   "execution_count": 1,
   "metadata": {},
   "outputs": [],
   "source": [
    "import requests\n",
    "from bs4 import BeautifulSoup"
   ]
  },
  {
   "cell_type": "code",
   "execution_count": 19,
   "metadata": {},
   "outputs": [],
   "source": [
    "def get_page(url):\n",
    "    response = requests.get(url)\n",
    "\n",
    "    if response.status_code == 200:\n",
    "        soup = BeautifulSoup(response.content, 'html.parser') \n",
    "        return soup\n",
    "    else:\n",
    "        print(\"Failed to retrieve webpage. Status code:\", response.status_code)\n",
    "\n",
    "\n",
    "def get_table(soup):\n",
    "    table_attributes = {}\n",
    "    div_id = \"content\"\n",
    "    div = soup.find('div', {'id': div_id})\n",
    "    \n",
    "    if not div:\n",
    "        print(\"Div with id\", div_id, \"not found.\")\n",
    "        return table_attributes\n",
    "    \n",
    "    table = div.find(\"table\")\n",
    "    \n",
    "    if not table:\n",
    "        print(\"Table not found.\")\n",
    "        return table_attributes\n",
    "    \n",
    "    rows = table.find_all(\"tr\")\n",
    "    \n",
    "    for idx, row in enumerate(rows, start=1):\n",
    "        row_data = []\n",
    "        for td in row.find_all(\"td\"):\n",
    "            cell_data = {\n",
    "                \"text\": td.text,\n",
    "                \"link\": td.find(\"a\")[\"href\"] if td.find(\"a\") else None\n",
    "            }\n",
    "            if cell_data[\"text\"] or cell_data[\"link\"]:  # Check if cell has text or link\n",
    "                row_data.append(cell_data)\n",
    "        if row_data:  # Check if row has any non-empty cells\n",
    "            table_attributes[f\"row{idx}\"] = row_data\n",
    "    \n",
    "    return table_attributes"
   ]
  },
  {
   "cell_type": "code",
   "execution_count": 20,
   "metadata": {},
   "outputs": [
    {
     "data": {
      "text/plain": [
       "{'row2': [{'text': 'All Locations', 'link': 'all_location_curr.htm'}],\n",
       " 'row4': [{'text': 'College of Ag, Food & Envr Sci',\n",
       "   'link': 'depts_10-CAGR_curr.htm'},\n",
       "  {'text': 'Subjects 10-CAGR', 'link': 'all_subject_10-CAGR_curr.htm'},\n",
       "  {'text': 'Instructors 10-CAGR', 'link': 'all_person_10-CAGR_curr.htm'},\n",
       "  {'text': 'Assignments 10-CAGR', 'link': 'assignment_10-CAGR_curr.htm'}],\n",
       " 'row5': [{'text': 'College of Arch & Envr Design',\n",
       "   'link': 'depts_20-CAED_curr.htm'},\n",
       "  {'text': 'Subjects 20-CAED', 'link': 'all_subject_20-CAED_curr.htm'},\n",
       "  {'text': 'Instructors 20-CAED', 'link': 'all_person_20-CAED_curr.htm'},\n",
       "  {'text': 'Assignments 20-CAED', 'link': 'assignment_20-CAED_curr.htm'}],\n",
       " 'row6': [{'text': 'Orfalea College of Business',\n",
       "   'link': 'depts_40-OCOB_curr.htm'},\n",
       "  {'text': 'Subjects 40-OCOB', 'link': 'all_subject_40-OCOB_curr.htm'},\n",
       "  {'text': 'Instructors 40-OCOB', 'link': 'all_person_40-OCOB_curr.htm'},\n",
       "  {'text': 'Assignments 40-OCOB', 'link': 'assignment_40-OCOB_curr.htm'}],\n",
       " 'row7': [{'text': 'College of Liberal Arts', 'link': 'depts_48-CLA_curr.htm'},\n",
       "  {'text': 'Subjects 48-CLA', 'link': 'all_subject_48-CLA_curr.htm'},\n",
       "  {'text': 'Instructors 48-CLA', 'link': 'all_person_48-CLA_curr.htm'},\n",
       "  {'text': 'Assignments 48-CLA', 'link': 'assignment_48-CLA_curr.htm'}],\n",
       " 'row8': [{'text': 'College of Engineering', 'link': 'depts_52-CENG_curr.htm'},\n",
       "  {'text': 'Subjects 52-CENG', 'link': 'all_subject_52-CENG_curr.htm'},\n",
       "  {'text': 'Instructors 52-CENG', 'link': 'all_person_52-CENG_curr.htm'},\n",
       "  {'text': 'Assignments 52-CENG', 'link': 'assignment_52-CENG_curr.htm'}],\n",
       " 'row9': [{'text': 'College of Science & Math',\n",
       "   'link': 'depts_76-CSM_curr.htm'},\n",
       "  {'text': 'Subjects 76-CSM', 'link': 'all_subject_76-CSM_curr.htm'},\n",
       "  {'text': 'Instructors 76-CSM', 'link': 'all_person_76-CSM_curr.htm'},\n",
       "  {'text': 'Assignments 76-CSM', 'link': 'assignment_76-CSM_curr.htm'}],\n",
       " 'row10': [{'text': 'All College', 'link': 'depts_99-ALL_curr.htm'},\n",
       "  {'text': 'Subjects 99-ALL', 'link': 'all_subject_99-ALL_curr.htm'},\n",
       "  {'text': 'Instructors 99-ALL', 'link': 'all_person_99-ALL_curr.htm'},\n",
       "  {'text': 'Assignments 99-ALL', 'link': 'assignment_99-ALL_curr.htm'}],\n",
       " 'row11': [{'text': 'Courses GE&B Coded', 'link': 'all_require_curr.htm'}],\n",
       " 'row12': [{'text': 'Schedule Overlaps', 'link': 'overlap_curr.htm'}],\n",
       " 'row13': [{'text': 'Useful Dates', 'link': 'dates_curr.htm'},\n",
       "  {'text': 'Term 2242 Calendar ExclusionsICS',\n",
       "   'link': '/ics/excludes_2242.ics'},\n",
       "  {'text': 'Continuous ExclusionsICS', 'link': '/ics/excludes_master.ics'}],\n",
       " 'row14': [{'text': 'Academic Final Exam SchedulePDF',\n",
       "   'link': 'https://content-calpoly-edu.s3.amazonaws.com/registrar/1/documents/finals/FinalExamWinter2024.pdf'}]}"
      ]
     },
     "execution_count": 20,
     "metadata": {},
     "output_type": "execute_result"
    }
   ],
   "source": [
    "schedules_url = \"https://schedules.calpoly.edu/\"\n",
    "soup = get_page(schedules_url)\n",
    "get_table(soup)"
   ]
  },
  {
   "cell_type": "code",
   "execution_count": null,
   "metadata": {},
   "outputs": [],
   "source": []
  }
 ],
 "metadata": {
  "kernelspec": {
   "display_name": "nlp",
   "language": "python",
   "name": "python3"
  },
  "language_info": {
   "codemirror_mode": {
    "name": "ipython",
    "version": 3
   },
   "file_extension": ".py",
   "mimetype": "text/x-python",
   "name": "python",
   "nbconvert_exporter": "python",
   "pygments_lexer": "ipython3",
   "version": "3.9.18"
  }
 },
 "nbformat": 4,
 "nbformat_minor": 2
}
